{
 "cells": [
  {
   "cell_type": "markdown",
   "metadata": {},
   "source": [
    "# Logistic regression\n",
    "\n",
    "Classification algorithm\n",
    "1. Binary Classfication\n",
    "\n",
    "    $ y \\in \\{0, 1\\}$\n",
    "\n",
    "    * 0: 'Negative Class'\n",
    "    * 1: 'Positive Class'\n",
    "\n",
    "2. Multi-Class Classification \n",
    "\n",
    "    $ y \\in \\{0, 1, 2, ..., n\\}$\n",
    "\n",
    "    * 0: 'Class  0'\n",
    "    * 1: 'Class  1'\n",
    "    * 2: 'Class  2'\n",
    "    * ...\n",
    "    * n: 'Class  n'"
   ]
  },
  {
   "cell_type": "markdown",
   "metadata": {},
   "source": [
    "## Logistic regression model\n",
    "\n",
    "It is required that $ 0 \\leq h_\\theta(x) \\leq 1 $\n",
    "\n",
    "Our linear regression hypothesis was $ h_\\theta(x) = \\theta^T \\underline{X} $\n",
    "\n",
    "The logistic regression hypothesis is $ h_\\theta(x) = g(\\theta^T \\underline{X}) $\n",
    "\n",
    "Where $g(z) = \\frac{1}{1+e^{-z}}$ is the Sigmoid or Logistic function\n",
    "\n",
    "The hypothesis is:\n",
    "\n",
    "$$ h_\\theta(x) = \\frac{1}{1+e^{-\\theta^T \\underline{X}}} $$\n",
    "\n"
   ]
  },
  {
   "cell_type": "markdown",
   "metadata": {},
   "source": [
    "### Interpretation of the results\n",
    "\n",
    "$h_\\theta(x) = $ estimated probability that $y=1$ on input $x$\n",
    "\n",
    "$$ h_\\theta(x) = P(y=1|x;\\theta)$$"
   ]
  },
  {
   "cell_type": "markdown",
   "metadata": {},
   "source": [
    "Since\n",
    "\n",
    "$$ P(y=0|x;\\theta) + P(y=1|x;\\theta) = 1$$\n",
    "\n",
    "The probability that $y=0$ on input x is :\n",
    "\n",
    "$$ P(y=0|x;\\theta) = 1 - P(y=1|x;\\theta)$$"
   ]
  },
  {
   "cell_type": "code",
   "execution_count": null,
   "metadata": {
    "collapsed": true
   },
   "outputs": [],
   "source": []
  }
 ],
 "metadata": {
  "kernelspec": {
   "display_name": "Python [default]",
   "language": "python",
   "name": "python3"
  },
  "language_info": {
   "codemirror_mode": {
    "name": "ipython",
    "version": 3
   },
   "file_extension": ".py",
   "mimetype": "text/x-python",
   "name": "python",
   "nbconvert_exporter": "python",
   "pygments_lexer": "ipython3",
   "version": "3.5.3"
  },
  "toc": {
   "colors": {
    "hover_highlight": "#DAA520",
    "running_highlight": "#FF0000",
    "selected_highlight": "#FFD700"
   },
   "moveMenuLeft": true,
   "nav_menu": {
    "height": "66px",
    "width": "252px"
   },
   "navigate_menu": true,
   "number_sections": true,
   "sideBar": true,
   "threshold": 4,
   "toc_cell": false,
   "toc_section_display": "block",
   "toc_window_display": false
  }
 },
 "nbformat": 4,
 "nbformat_minor": 2
}
