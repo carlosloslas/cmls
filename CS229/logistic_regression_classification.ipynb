{
 "cells": [
  {
   "cell_type": "markdown",
   "metadata": {},
   "source": [
    "# Logistic regression\n",
    "\n",
    "Classification algorithm\n",
    "1. Binary Classfication\n",
    "\n",
    "    $ y \\in \\{0, 1\\}$\n",
    "\n",
    "    * 0: 'Negative Class'\n",
    "    * 1: 'Positive Class'\n",
    "\n",
    "2. Multi-Class Classification \n",
    "\n",
    "    $ y \\in \\{0, 1, 2, ..., n\\}$\n",
    "\n",
    "    * 0: 'Class  0'\n",
    "    * 1: 'Class  1'\n",
    "    * 2: 'Class  2'\n",
    "    * ...\n",
    "    * n: 'Class  n'"
   ]
  },
  {
   "cell_type": "markdown",
   "metadata": {},
   "source": [
    "## Logistic regression model\n",
    "\n",
    "It is required that $ 0 \\leq h_\\theta(x) \\leq 1 $\n",
    "\n",
    "Our linear regression hypothesis was $ h_\\theta(x) = \\theta^T \\underline{X} $\n",
    "\n",
    "The logistic regression hypothesis is $ h_\\theta(x) = g(\\theta^T \\underline{X}) $\n",
    "\n",
    "Where $g(z) = \\frac{1}{1+e^{-z}}$ is the Sigmoid or Logistic function\n",
    "\n",
    "The hypothesis is:\n",
    "\n",
    "$$ h_\\theta(x) = \\frac{1}{1+e^{-\\theta^T \\underline{X}}} $$\n",
    "\n"
   ]
  },
  {
   "cell_type": "markdown",
   "metadata": {},
   "source": [
    "### Interpretation of the results\n",
    "\n",
    "$h_\\theta(x) = $ estimated probability that $y=1$ on input $x$\n",
    "\n",
    "$$ h_\\theta(x) = P(y=1|x;\\theta)$$"
   ]
  },
  {
   "cell_type": "markdown",
   "metadata": {},
   "source": [
    "Since\n",
    "\n",
    "$$ P(y=0|x;\\theta) + P(y=1|x;\\theta) = 1$$\n",
    "\n",
    "The probability that $y=0$ on input x is :\n",
    "\n",
    "$$ P(y=0|x;\\theta) = 1 - P(y=1|x;\\theta)$$"
   ]
  },
  {
   "cell_type": "markdown",
   "metadata": {
    "collapsed": true
   },
   "source": [
    "## Decision boundary\n",
    "\n",
    "\n",
    "Line where $h_\\theta = 0.5$. Property of the logistic regression hypothesis $h_\\theta$\n",
    "\n",
    "| Outcome | Hypothesis | Logistic/ Sigmoid function | Features |\n",
    "|:---:|:-----------------------:|:-----------------------:|\n",
    "| y=1 | $ h_\\theta(x) \\geq 0.5$ |$ g(z) \\geq 0.5$ when $z\\geq0.0$ | $z = \\theta^T\\underline{X} \\geq 0.0$ |\n",
    "| y=0 | $ h_\\theta(x)  < 0.5$ |$ g(z) < 0.5$ when $z < 0.0$ | $z = \\theta^T\\underline{X} < 0.0$ |\n"
   ]
  },
  {
   "cell_type": "markdown",
   "metadata": {},
   "source": [
    "__Example (linear decision boundaries)__\n",
    "\n",
    "$h_\\theta(x) = \\theta_0 + \\theta_1x_1 + \\theta_2x_2$\n",
    "\n",
    "$\\theta_0 + \\theta_1x_1 + \\theta_2x_2 \\geq 0.0$"
   ]
  },
  {
   "cell_type": "markdown",
   "metadata": {},
   "source": [
    "$5 -x_1 \\geq 0.0$"
   ]
  },
  {
   "cell_type": "markdown",
   "metadata": {},
   "source": [
    "$x_1 \\leq 5 \\rightarrow y=1$"
   ]
  },
  {
   "cell_type": "markdown",
   "metadata": {},
   "source": [
    "__Example (non-linear decision boundaries)__"
   ]
  },
  {
   "cell_type": "markdown",
   "metadata": {},
   "source": [
    "$h_\\theta(x) = \\theta_0 + \\theta_1x_1 + \\theta_2x_2 + \\theta_3x_1^2 + \\theta_4x_2^2$"
   ]
  },
  {
   "cell_type": "markdown",
   "metadata": {},
   "source": [
    "$-1 + x_1^2 + x_2^2 \\geq 0.0$"
   ]
  },
  {
   "cell_type": "markdown",
   "metadata": {},
   "source": [
    "$x_1^2 + x_2^2 \\geq 1$"
   ]
  },
  {
   "cell_type": "markdown",
   "metadata": {},
   "source": [
    "Circle with radius 1. Outside $y=1$. Inside $y=0$"
   ]
  },
  {
   "cell_type": "markdown",
   "metadata": {},
   "source": [
    "## Cost function\n",
    "\n",
    "__The problem__\n",
    "\n",
    "Training set $\\{(x^{(1)},y^{(1)}), (x^{(2)},y^{(2)}), ..., (x^{(m)},y^{(m)}) \\}$ with $m$ examples\n",
    "\n",
    "Features $ x\\in \\begin{bmatrix}\n",
    "    x_{0} \\\\\n",
    "    x_{1} \\\\\n",
    "    \\dots\\\\\n",
    "    x_{n} \n",
    "\\end{bmatrix}\n",
    "\\in \\mathbb{R}^{n+1} \\;\\; x_0=1, y\\in\\{0,1\\}$\n",
    "\n",
    "Hypothesis $h_\\theta(x) = \\frac{1}{1 + e^{-\\theta^T x}}$"
   ]
  },
  {
   "cell_type": "markdown",
   "metadata": {},
   "source": [
    "__Cost funciton (lin-reg)__\n",
    "\n",
    "Can not be used for logistic regression. Non linear hypothesis. Non convex cost function"
   ]
  },
  {
   "cell_type": "markdown",
   "metadata": {},
   "source": [
    "__Cost function (logistic-reg)__\n",
    "\n",
    "$$ J(\\theta) = \\frac{1}{m} \\sum\\limits^m_{i=1} \\text{Cost}(h_\\theta(x^{(i)}),y^{(i)})$$\n",
    "\n",
    "$$  \\text{Cost}(h_\\theta(x),y) = \\left\\{\\begin{array}{lr}\n",
    "       -log(h_\\theta(x)) & \\text{if }y = 1\\\\\n",
    "        -log(1-h_\\theta(x)) & \\text{if }y = 0\n",
    "        \\end{array} \\right\\}\n",
    "        $$\n",
    "Note that y is only either 0 or 1"
   ]
  },
  {
   "cell_type": "markdown",
   "metadata": {},
   "source": [
    "__Gradient descent__\n",
    "\n",
    "Translating the cost function into an equivalent expression:\n",
    "\n",
    "$$ \\text{Cost}(h_\\theta(x),y) = -y\\:log(h_\\theta(x)) - (1-y)\\:log(1-h_\\theta(x))$$"
   ]
  },
  {
   "cell_type": "markdown",
   "metadata": {},
   "source": [
    "## Multiclass classification \n",
    "\n",
    "One-vs-all (one-vs-rest)"
   ]
  },
  {
   "cell_type": "markdown",
   "metadata": {},
   "source": [
    "Carry out individual logistic regression fits on  each of the groups agaist the rest.\n",
    "\n",
    "In order to predict the  class of the point the three classifiers are used and the probabilities compared."
   ]
  },
  {
   "cell_type": "code",
   "execution_count": null,
   "metadata": {
    "collapsed": true
   },
   "outputs": [],
   "source": []
  }
 ],
 "metadata": {
  "kernelspec": {
   "display_name": "Python [default]",
   "language": "python",
   "name": "python3"
  },
  "language_info": {
   "codemirror_mode": {
    "name": "ipython",
    "version": 3
   },
   "file_extension": ".py",
   "mimetype": "text/x-python",
   "name": "python",
   "nbconvert_exporter": "python",
   "pygments_lexer": "ipython3",
   "version": "3.5.3"
  },
  "toc": {
   "colors": {
    "hover_highlight": "#DAA520",
    "running_highlight": "#FF0000",
    "selected_highlight": "#FFD700"
   },
   "moveMenuLeft": true,
   "nav_menu": {
    "height": "66px",
    "width": "252px"
   },
   "navigate_menu": true,
   "number_sections": true,
   "sideBar": true,
   "threshold": 4,
   "toc_cell": false,
   "toc_position": {
    "height": "498px",
    "left": "0px",
    "right": "465.125px",
    "top": "160px",
    "width": "181px"
   },
   "toc_section_display": "block",
   "toc_window_display": true
  }
 },
 "nbformat": 4,
 "nbformat_minor": 2
}
