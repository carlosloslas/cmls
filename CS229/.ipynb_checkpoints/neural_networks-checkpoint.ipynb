{
 "cells": [
  {
   "cell_type": "markdown",
   "metadata": {
    "collapsed": true
   },
   "source": [
    "# Need for N.N. (Non-linear Hypothesis)"
   ]
  },
  {
   "cell_type": "markdown",
   "metadata": {},
   "source": [
    "When working with non-linear hypothesis in a multi-feature (dimensional) model. \n",
    "- Number of features grows masivelly \n",
    "- Computationally expensive\n",
    "- Risk of overfitting\n",
    "\n",
    "\n",
    "__Eg.__ In a 100 feature model with non-linear terms\n",
    "\n",
    "2nd order terms only, features grow as $O(n^2)$ -> 5000 features.\n",
    "\n",
    "3rd order terms only, features grom as $O(n^3)$ -> ..."
   ]
  },
  {
   "cell_type": "markdown",
   "metadata": {},
   "source": [
    "## Image recognition"
   ]
  },
  {
   "cell_type": "markdown",
   "metadata": {},
   "source": [
    "Image recognition is almost imposible due to number of pixels in image & need for non-linear classifier. Number of fetures is too large."
   ]
  },
  {
   "cell_type": "markdown",
   "metadata": {},
   "source": [
    "# Neural Network representation"
   ]
  },
  {
   "cell_type": "markdown",
   "metadata": {},
   "source": [
    "## Neuron @ the brain\n",
    "\n",
    "Computation unit @ the brain\n",
    "\n",
    "- Dendrite -> input wires\n",
    "- Axon     -> output wire\n",
    "\n",
    "Neurons are connected via axon to dendrites, send pulses of electricity.\n",
    "\n",
    "Neurons can send pulses to muscles & other parts of the body."
   ]
  },
  {
   "cell_type": "markdown",
   "metadata": {},
   "source": [
    "## Neuron @ the computer\n",
    "\n",
    "Modelled as a logistic unit.\n",
    "\n",
    "Leceives a number of inputs and produces an output.\n",
    "\n",
    "$x_0$ refered as the 'bias unit'\n",
    "\n",
    "Internal fucntion refered as 'activation function'\n",
    "\n",
    "$\\theta$ (parameters) refered as weights."
   ]
  },
  {
   "cell_type": "markdown",
   "metadata": {
    "collapsed": true
   },
   "source": [
    "## Neural Network\n",
    "\n",
    "Collection of neurons -> nodes layered\n",
    "\n",
    "* layer 1 -> Input layer\n",
    "* ...\n",
    "* layer   -> Hidden layer\n",
    "* ...\n",
    "* layer   -> Output layer"
   ]
  },
  {
   "cell_type": "markdown",
   "metadata": {
    "collapsed": true
   },
   "source": [
    "## Notation\n",
    "\n",
    "- $a^{(j)}_i$ = 'activation' of unit $i$ in layer $j$\n",
    "- $\\Theta^{(j)}$ = matrix of weights controlling function mapping from layer $j$ to layer $j+1$"
   ]
  },
  {
   "cell_type": "markdown",
   "metadata": {
    "collapsed": true
   },
   "source": [
    "__Eg__\n",
    "\n",
    "3 units $\\begin{bmatrix}\n",
    "    x_{1} \\\\\n",
    "    x_{2} \\\\\n",
    "    x_{3} \\\\\n",
    "\\end{bmatrix} $, 3 layers $\\begin{bmatrix}\n",
    "    a^{(1)} & a^{(2)} & a^{(3)}\n",
    "\\end{bmatrix} $, 3 hidden units $\\begin{bmatrix}\n",
    "    a^{(2)}_1 \\\\\n",
    "    a^{(2)}_2 \\\\\n",
    "    a^{(2)}_3 \\\\\n",
    "\\end{bmatrix} $, 1 output $\\begin{bmatrix}\n",
    "    a^{(3)}_1 \n",
    "\\end{bmatrix} $\n",
    "\n"
   ]
  },
  {
   "cell_type": "markdown",
   "metadata": {
    "collapsed": true
   },
   "source": [
    "The three hidden units:\n",
    "\n",
    "$$ a^{(2)}_1 = g(\\Theta^{(1)}_{10}x_0 + \\Theta^{(1)}_{11}x_1 + \\Theta^{(1)}_{12}x_2+ \\Theta^{(1)}_{13}x_3) $$\n",
    "\n",
    "$$ a^{(2)}_2 = g(\\Theta^{(1)}_{20}x_0 + \\Theta^{(1)}_{21}x_1 + \\Theta^{(1)}_{22}x_2+ \\Theta^{(1)}_{23}x_3) $$\n",
    "\n",
    "$$ a^{(2)}_3 = g(\\Theta^{(1)}_{30}x_0 + \\Theta^{(1)}_{31}x_1 + \\Theta^{(1)}_{32}x_2+ \\Theta^{(1)}_{33}x_3) $$"
   ]
  },
  {
   "cell_type": "markdown",
   "metadata": {
    "collapsed": true
   },
   "source": [
    "The output:\n",
    "\n",
    "$$ h_\\Theta^{(3)} = a^{(3)}_1 = g(\\Theta^{(2)}_{10}a^{(2)}_0 + \\Theta^{(2)}_{11}a^{(2)}_1 + \\Theta^{(2)}_{12}a^{(2)}_2+ \\Theta^{(2)}_{13}a^{(2)}_3) $$"
   ]
  },
  {
   "cell_type": "markdown",
   "metadata": {
    "collapsed": true
   },
   "source": [
    "Note the bias units in the hidden & output layers, $x_0$ & $a^{(2)}_0$ respectivelly.\n",
    "\n",
    "Also that 4 input units $x_i$ are accounted in calculating the 3 hidden layer units $a^{(j)}_i$."
   ]
  },
  {
   "cell_type": "markdown",
   "metadata": {
    "collapsed": true
   },
   "source": [
    "In this case $\\Theta^{(1)}$ $\\in$ $\\mathbb{R}^{3\\times4}$"
   ]
  },
  {
   "cell_type": "markdown",
   "metadata": {
    "collapsed": true
   },
   "source": [
    "More generally, if network has $s_j$ units in layer $j$, $s_{j+1}$ units in layer $j+1$, then $\\Theta^{(j)}$ will be of dimension $s_{j+1} \\times (s_j + 1)$."
   ]
  },
  {
   "cell_type": "markdown",
   "metadata": {
    "collapsed": true
   },
   "source": [
    "## Forward propagation: Vectorized implementation\n",
    "\n",
    "From input layer to output."
   ]
  },
  {
   "cell_type": "markdown",
   "metadata": {
    "collapsed": true
   },
   "source": [
    "Given our previous example, \n",
    "\n",
    "$ \\bar{x} = \\bar{a}^{(1)}\n",
    "\\begin{bmatrix}\n",
    "x_{0} \\\\\n",
    "x_{1} \\\\\n",
    "x_{2} \\\\\n",
    "x_{3}\n",
    "\\end{bmatrix}$ and $\\bar{z}^{(2)} = \\begin{bmatrix}\n",
    "z^{(2)}_1 \\\\\n",
    "z^{(2)}_2 \\\\\n",
    "z^{(2)}_3\n",
    "\\end{bmatrix}$\n",
    "\n",
    "Where\n",
    "\n",
    "$z^{(2)}_1 = \\Theta^{(1)}_{10}x_0 + \\Theta^{(1)}_{11}x_1 + \\Theta^{(1)}_{12}x_2+ \\Theta^{(1)}_{13}x_3 $\n",
    "\n",
    "$z^{(2)}_2 = \\Theta^{(1)}_{20}x_0 + \\Theta^{(1)}_{21}x_1 + \\Theta^{(1)}_{22}x_2+ \\Theta^{(1)}_{23}x_3 $\n",
    "\n",
    "$\\dots$"
   ]
  },
  {
   "cell_type": "markdown",
   "metadata": {
    "collapsed": true
   },
   "source": [
    "Then, $\\bar{z}^{(2)} = \\Theta^{(1)}\\bar{x} = \\Theta^{(1)}\\bar{a}^{(1)}$  "
   ]
  },
  {
   "cell_type": "markdown",
   "metadata": {},
   "source": [
    "The intermediate layer can be calculated as:\n",
    "\n",
    "$$ \\bar{a}^{(2)} = g(\\bar{z}^{(2)}) $$\n",
    "\n",
    "Where $\\bar{a}^{(2)}$ & $\\bar{z}^{(2)}$ are $\\mathbb{R}^{3}$  and $g(\\bar{z})$ is the sigmoid function, which calculated elementwise on the matrix $\\Theta^{(1)} \\bar{x}$\n",
    "\n"
   ]
  },
  {
   "cell_type": "markdown",
   "metadata": {},
   "source": [
    "Accounting for $a^{(2)}_0$, $\\bar{a}^{(2)} \\in \\mathbb{R}^4$"
   ]
  },
  {
   "cell_type": "markdown",
   "metadata": {},
   "source": [
    "Finally the output layer of the network is:\n",
    "\n",
    "$$ h_\\Theta(x) = \\bar{a}^{(3)} = g(\\bar{z}^{(3)}) $$\n",
    "\n",
    "Where $z^{(3)} = \\Theta^{(2)}\\bar{a}^{(2)} $"
   ]
  },
  {
   "cell_type": "code",
   "execution_count": null,
   "metadata": {
    "collapsed": true
   },
   "outputs": [],
   "source": []
  },
  {
   "cell_type": "code",
   "execution_count": null,
   "metadata": {
    "collapsed": true
   },
   "outputs": [],
   "source": []
  },
  {
   "cell_type": "code",
   "execution_count": null,
   "metadata": {
    "collapsed": true
   },
   "outputs": [],
   "source": []
  },
  {
   "cell_type": "code",
   "execution_count": null,
   "metadata": {
    "collapsed": true
   },
   "outputs": [],
   "source": []
  },
  {
   "cell_type": "code",
   "execution_count": null,
   "metadata": {
    "collapsed": true
   },
   "outputs": [],
   "source": []
  },
  {
   "cell_type": "code",
   "execution_count": null,
   "metadata": {
    "collapsed": true
   },
   "outputs": [],
   "source": []
  },
  {
   "cell_type": "code",
   "execution_count": null,
   "metadata": {
    "collapsed": true
   },
   "outputs": [],
   "source": []
  },
  {
   "cell_type": "code",
   "execution_count": null,
   "metadata": {
    "collapsed": true
   },
   "outputs": [],
   "source": []
  },
  {
   "cell_type": "code",
   "execution_count": null,
   "metadata": {
    "collapsed": true
   },
   "outputs": [],
   "source": []
  },
  {
   "cell_type": "code",
   "execution_count": null,
   "metadata": {
    "collapsed": true
   },
   "outputs": [],
   "source": []
  },
  {
   "cell_type": "code",
   "execution_count": null,
   "metadata": {
    "collapsed": true
   },
   "outputs": [],
   "source": []
  },
  {
   "cell_type": "code",
   "execution_count": null,
   "metadata": {
    "collapsed": true
   },
   "outputs": [],
   "source": []
  }
 ],
 "metadata": {
  "anaconda-cloud": {},
  "kernelspec": {
   "display_name": "Python [default]",
   "language": "python",
   "name": "python3"
  },
  "language_info": {
   "codemirror_mode": {
    "name": "ipython",
    "version": 3
   },
   "file_extension": ".py",
   "mimetype": "text/x-python",
   "name": "python",
   "nbconvert_exporter": "python",
   "pygments_lexer": "ipython3",
   "version": "3.5.3"
  },
  "toc": {
   "colors": {
    "hover_highlight": "#DAA520",
    "running_highlight": "#FF0000",
    "selected_highlight": "#FFD700"
   },
   "moveMenuLeft": true,
   "nav_menu": {
    "height": "12px",
    "width": "252px"
   },
   "navigate_menu": true,
   "number_sections": true,
   "sideBar": true,
   "threshold": 4,
   "toc_cell": false,
   "toc_position": {
    "height": "630px",
    "left": "0px",
    "right": "632px",
    "top": "160px",
    "width": "131px"
   },
   "toc_section_display": "block",
   "toc_window_display": true
  }
 },
 "nbformat": 4,
 "nbformat_minor": 2
}
