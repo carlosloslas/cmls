{
 "cells": [
  {
   "cell_type": "markdown",
   "metadata": {},
   "source": [
    "# The best way to spend time\n",
    "\n",
    "- Get more training data\n",
    "- Smaller set of features (prevent overfitting)\n",
    "- Additional features \n",
    "- Polinomial features\n",
    "- Modifing regularization parameter\n",
    "\n",
    "__MACHINE LEARNING DIAGNOSTIC__\n",
    "\n",
    "Test which when run on the learning algorithm can provide insight into how best to improve the performance of it.\n",
    "\n",
    "Can take time to implement, however they are a very good use of time."
   ]
  },
  {
   "cell_type": "markdown",
   "metadata": {},
   "source": [
    "# Evaluating a hypothesis\n",
    "\n",
    "A low error training hypothesis may not be an appropriate one (overfitting)"
   ]
  },
  {
   "cell_type": "markdown",
   "metadata": {},
   "source": [
    "High number of features make simple plots a non trivial task."
   ]
  },
  {
   "cell_type": "markdown",
   "metadata": {},
   "source": [
    "Splitting the dataset into training & testing data. Tipically 70% training, 30% testing. If data is not randomly ordered, this should happen prior to splitting."
   ]
  },
  {
   "cell_type": "markdown",
   "metadata": {},
   "source": [
    "## Train/testing procedure\n",
    "\n",
    "__(lin-reg)__\n",
    "\n",
    "1. Learn $\\theta$ from training $(\\min J(\\theta))$\n",
    "2. Compute test error: $J_{test} = \\frac{1}{2m_{test}} \\sum\\limits_{i=1}^{m_{test}}\\left( h_{\\theta}(x^{(i)}_{test}) - y^{(i)}_{test})\\right)^2$\n",
    "\n",
    "__(logist-reg)__\n",
    "\n",
    "1. Learn $\\theta$ from training $(\\min J(\\theta))$\n",
    "2. Compute test error: $J_{test} = -\\frac{1}{m_{test}} \\sum\\limits_{i=1}^{m_{test}}\\left(y^{(i)}_{test} \\text{log}\\:h_{\\theta}(x^{(i)}_{test}) + (1 - y^{(i)}_{test})\\text{log}\\:h_{\\theta}(x^{(i)}_{test}) \\right)$\n",
    "3. Misclassification error (1/0 missclassification error):\n",
    "\n",
    "$ err(h_{\\theta}(x), y) = \\begin{cases} \n",
    "1 & \\mbox{if } h_{\\theta}(x) \\geqslant  0.5, & y=0 & \\mbox{(Hypothesis $\\rightarrow$ 1, target = 0)}\\\\ \n",
    "  & \\mbox{ or if } h_{\\theta}(x) <  0.5, & y=1 & \\mbox{(Hypothesis $\\rightarrow$ 0, target = 1)}\\\\\n",
    " 0 & \\mbox{Otherwise}\\\\  \n",
    "\\end{cases} $\n",
    "\n",
    "$\\mbox{Test error} = \\frac{1}{m_{test}} \\sum\\limits^{m_{test}}_{i=1} err(h_{\\theta}(x^{(i)}_{test}), y^{(i)}_{test})$"
   ]
  },
  {
   "cell_type": "markdown",
   "metadata": {},
   "source": [
    "# Model Selection"
   ]
  },
  {
   "cell_type": "markdown",
   "metadata": {},
   "source": [
    "Degree of polynomial:\n",
    "\n",
    "1. $h_{\\theta}(x) = \\theta_0 + \\theta_1x$\n",
    "2. $h_{\\theta}(x) = \\theta_0 + \\theta_1x + \\theta_2x^2$\n",
    "3. $h_{\\theta}(x) = \\theta_0 + \\theta_1x + \\dots +\\theta_3x^3$\n",
    "4. $\\dots$\n",
    "5. $h_{\\theta}(x) = \\theta_0 + \\theta_1x + \\dots +\\theta_10x^{10}$"
   ]
  },
  {
   "cell_type": "markdown",
   "metadata": {},
   "source": [
    "As if additional parameter $\\rightarrow$ $d = \\mbox{degree of polynomial}$\n",
    "\n",
    "Using $d$ not suitable since the need it to have a good fit not to have the optimal fit for the training set."
   ]
  },
  {
   "cell_type": "markdown",
   "metadata": {},
   "source": [
    "__Method__\n",
    "\n",
    "1. Split into training (60%), cross validation (cv) (20%), testing sets (20%).\n",
    "2. Compute errors:\n",
    "    - $J_{train} = \\frac{1}{2m_{}} \\sum\\limits_{i=1}^{m_{}}\\left( h_{\\theta}(x^{(i)}_{}) - y^{(i)}_{})\\right)^2$\n",
    "    - $J_{cv} = \\frac{1}{2m_{cv}} \\sum\\limits_{i=1}^{m_{cv}}\\left( h_{\\theta}(x^{(i)}_{cv}) - y^{(i)}_{cv})\\right)^2$\n",
    "    - $J_{test} = \\frac{1}{2m_{test}} \\sum\\limits_{i=1}^{m_{test}}\\left( h_{\\theta}(x^{(i)}_{test}) - y^{(i)}_{test})\\right)^2$\n",
    "3. Select the hypothesis with the smallest cross-validation error.\n"
   ]
  },
  {
   "cell_type": "markdown",
   "metadata": {},
   "source": [
    "# Diagnosing Bias vs Variance\n",
    "\n",
    "Most of times when algorithm underperforms:\n",
    "- High Bias $\\rightarrow$ Underfitting \n",
    "- High Variance $\\rightarrow$ Overfitting\n",
    "\n",
    "Important in order to better improve the learning algorithm"
   ]
  },
  {
   "cell_type": "markdown",
   "metadata": {},
   "source": [
    "## Bias/variance\n",
    "\n",
    "Looking at the training and cross-validation errors vs order polynomial of the hypothesis:"
   ]
  },
  {
   "cell_type": "markdown",
   "metadata": {
    "cell_style": "split"
   },
   "source": [
    "<img src=\"bias-variance.png\">"
   ]
  },
  {
   "cell_type": "markdown",
   "metadata": {
    "cell_style": "split"
   },
   "source": [
    "- High Bias (Underfit):\n",
    "    - $J_{train}(\\theta) \\rightarrow$ high\n",
    "    - $J_{cv}(\\theta) \\approx J_{train}(\\theta)$\n",
    "- High Variance (Overfit):\n",
    "    - $J_{train}(\\theta) \\rightarrow$ low\n",
    "    - $J_{cv}(\\theta) >> J_{train}(\\theta)$"
   ]
  },
  {
   "cell_type": "markdown",
   "metadata": {},
   "source": []
  },
  {
   "cell_type": "markdown",
   "metadata": {},
   "source": []
  },
  {
   "cell_type": "markdown",
   "metadata": {},
   "source": []
  },
  {
   "cell_type": "markdown",
   "metadata": {},
   "source": []
  },
  {
   "cell_type": "markdown",
   "metadata": {},
   "source": []
  },
  {
   "cell_type": "markdown",
   "metadata": {},
   "source": []
  },
  {
   "cell_type": "markdown",
   "metadata": {},
   "source": []
  },
  {
   "cell_type": "markdown",
   "metadata": {},
   "source": []
  },
  {
   "cell_type": "markdown",
   "metadata": {},
   "source": []
  },
  {
   "cell_type": "markdown",
   "metadata": {},
   "source": []
  },
  {
   "cell_type": "markdown",
   "metadata": {},
   "source": []
  },
  {
   "cell_type": "markdown",
   "metadata": {},
   "source": []
  },
  {
   "cell_type": "markdown",
   "metadata": {},
   "source": []
  },
  {
   "cell_type": "markdown",
   "metadata": {},
   "source": []
  },
  {
   "cell_type": "markdown",
   "metadata": {},
   "source": []
  },
  {
   "cell_type": "markdown",
   "metadata": {},
   "source": []
  },
  {
   "cell_type": "markdown",
   "metadata": {},
   "source": []
  },
  {
   "cell_type": "markdown",
   "metadata": {},
   "source": []
  },
  {
   "cell_type": "markdown",
   "metadata": {},
   "source": []
  },
  {
   "cell_type": "markdown",
   "metadata": {},
   "source": []
  },
  {
   "cell_type": "markdown",
   "metadata": {},
   "source": []
  },
  {
   "cell_type": "markdown",
   "metadata": {},
   "source": []
  },
  {
   "cell_type": "markdown",
   "metadata": {},
   "source": []
  },
  {
   "cell_type": "markdown",
   "metadata": {},
   "source": []
  },
  {
   "cell_type": "markdown",
   "metadata": {},
   "source": []
  },
  {
   "cell_type": "markdown",
   "metadata": {},
   "source": []
  },
  {
   "cell_type": "markdown",
   "metadata": {},
   "source": []
  },
  {
   "cell_type": "markdown",
   "metadata": {},
   "source": []
  },
  {
   "cell_type": "markdown",
   "metadata": {},
   "source": []
  },
  {
   "cell_type": "markdown",
   "metadata": {},
   "source": []
  },
  {
   "cell_type": "markdown",
   "metadata": {},
   "source": []
  },
  {
   "cell_type": "markdown",
   "metadata": {},
   "source": []
  },
  {
   "cell_type": "markdown",
   "metadata": {},
   "source": []
  }
 ],
 "metadata": {
  "kernelspec": {
   "display_name": "Python [default]",
   "language": "python",
   "name": "python3"
  },
  "language_info": {
   "codemirror_mode": {
    "name": "ipython",
    "version": 3
   },
   "file_extension": ".py",
   "mimetype": "text/x-python",
   "name": "python",
   "nbconvert_exporter": "python",
   "pygments_lexer": "ipython3",
   "version": "3.5.3"
  },
  "toc": {
   "colors": {
    "hover_highlight": "#DAA520",
    "navigate_num": "#000000",
    "navigate_text": "#333333",
    "running_highlight": "#FF0000",
    "selected_highlight": "#FFD700",
    "sidebar_border": "#EEEEEE",
    "wrapper_background": "#FFFFFF"
   },
   "moveMenuLeft": true,
   "nav_menu": {
    "height": "120px",
    "width": "252px"
   },
   "navigate_menu": true,
   "number_sections": true,
   "sideBar": false,
   "threshold": 4,
   "toc_cell": false,
   "toc_position": {
    "height": "506px",
    "left": "730px",
    "right": "20px",
    "top": "109px",
    "width": "197px"
   },
   "toc_section_display": "block",
   "toc_window_display": true,
   "widenNotebook": false
  }
 },
 "nbformat": 4,
 "nbformat_minor": 2
}
